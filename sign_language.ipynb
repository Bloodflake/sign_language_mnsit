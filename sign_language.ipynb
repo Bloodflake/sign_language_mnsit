{
  "nbformat": 4,
  "nbformat_minor": 0,
  "metadata": {
    "colab": {
      "name": "sign_language.ipynb",
      "provenance": [],
      "mount_file_id": "1A-m0ZVtIjFK2tjSsCkFxqJsIrvNz_zKX",
      "authorship_tag": "ABX9TyPqT6osLQ3QwC08IOt7+JQS",
      "include_colab_link": true
    },
    "kernelspec": {
      "name": "python3",
      "display_name": "Python 3"
    },
    "accelerator": "GPU"
  },
  "cells": [
    {
      "cell_type": "markdown",
      "metadata": {
        "id": "view-in-github",
        "colab_type": "text"
      },
      "source": [
        "<a href=\"https://colab.research.google.com/github/Bloodflake/sign_language_mnsit/blob/master/sign_language.ipynb\" target=\"_parent\"><img src=\"https://colab.research.google.com/assets/colab-badge.svg\" alt=\"Open In Colab\"/></a>"
      ]
    },
    {
      "cell_type": "code",
      "metadata": {
        "id": "ZMomUGQJeDzH",
        "colab_type": "code",
        "colab": {}
      },
      "source": [
        "import csv\n",
        "import numpy as np\n",
        "import tensorflow as tf\n",
        "from tensorflow.keras.preprocessing.image import ImageDataGenerator\n",
        "from google.colab import files\n",
        "import pandas as pd\n"
      ],
      "execution_count": 5,
      "outputs": []
    },
    {
      "cell_type": "code",
      "metadata": {
        "id": "I1jJ8_aUgi-w",
        "colab_type": "code",
        "colab": {}
      },
      "source": [
        "def get_data(filename):\n",
        "    images = np.empty(1)\n",
        "    labels = np.empty(1)\n",
        "    with open(filename) as training_file:\n",
        "      data = np.loadtxt(training_file,delimiter=',',skiprows=1)\n",
        "      for row in data:\n",
        "        images.append(row[1:])\n",
        "        labels.append(row[0])\n",
        "      images = np.reshape(images,(images.shape[0],28,28))\n",
        "      labels = np.array(label).astype('float')\n",
        "    return images, labels"
      ],
      "execution_count": 6,
      "outputs": []
    },
    {
      "cell_type": "code",
      "metadata": {
        "id": "-8bsqjPxo3uQ",
        "colab_type": "code",
        "colab": {}
      },
      "source": [
        "data_test = pd.read_csv(\"/content/drive/My Drive/sign_mnist_test.csv\",skiprows=0)\n",
        "data_train = pd.read_csv(\"/content/drive/My Drive/sign_mnist_train.csv\",skiprows=0)"
      ],
      "execution_count": 7,
      "outputs": []
    },
    {
      "cell_type": "code",
      "metadata": {
        "id": "uBoDcgz3vxNc",
        "colab_type": "code",
        "colab": {
          "base_uri": "https://localhost:8080/",
          "height": 34
        },
        "outputId": "38b1b4d3-0282-4b8d-f897-fa78bfd9fc36"
      },
      "source": [
        "data_train.shape"
      ],
      "execution_count": 8,
      "outputs": [
        {
          "output_type": "execute_result",
          "data": {
            "text/plain": [
              "(27455, 785)"
            ]
          },
          "metadata": {
            "tags": []
          },
          "execution_count": 8
        }
      ]
    },
    {
      "cell_type": "code",
      "metadata": {
        "id": "6T8KmCIFv47j",
        "colab_type": "code",
        "colab": {
          "base_uri": "https://localhost:8080/",
          "height": 34
        },
        "outputId": "df1234c9-3d36-4ca5-bf5e-a64724d35e5b"
      },
      "source": [
        "data_test.shape"
      ],
      "execution_count": 9,
      "outputs": [
        {
          "output_type": "execute_result",
          "data": {
            "text/plain": [
              "(7172, 785)"
            ]
          },
          "metadata": {
            "tags": []
          },
          "execution_count": 9
        }
      ]
    },
    {
      "cell_type": "code",
      "metadata": {
        "id": "qt4j5Ftvr25c",
        "colab_type": "code",
        "colab": {}
      },
      "source": [
        "testing_images, testing_labels = np.array(data_test.iloc[:,1:]), np.array(data_test.iloc[:,0])\n",
        "training_images, training_labels = np.array(data_train.iloc[:,1:]), np.array(data_train.iloc[:,0])"
      ],
      "execution_count": 10,
      "outputs": []
    },
    {
      "cell_type": "code",
      "metadata": {
        "id": "LOI6qaudvgPB",
        "colab_type": "code",
        "colab": {}
      },
      "source": [
        "testing_images = np.reshape(testing_images,(testing_images.shape[0],28,28))\n",
        "training_images = np.reshape(training_images,(training_images.shape[0],28,28))"
      ],
      "execution_count": 11,
      "outputs": []
    },
    {
      "cell_type": "code",
      "metadata": {
        "id": "FEiZA3A0gn7A",
        "colab_type": "code",
        "colab": {
          "base_uri": "https://localhost:8080/",
          "height": 85
        },
        "outputId": "46a9f5ab-5582-4c9e-e95f-734bf7c95ab5"
      },
      "source": [
        "print(training_images.shape)\n",
        "print(training_labels.shape)\n",
        "print(testing_images.shape)\n",
        "print(testing_labels.shape)"
      ],
      "execution_count": 12,
      "outputs": [
        {
          "output_type": "stream",
          "text": [
            "(27455, 28, 28)\n",
            "(27455,)\n",
            "(7172, 28, 28)\n",
            "(7172,)\n"
          ],
          "name": "stdout"
        }
      ]
    },
    {
      "cell_type": "code",
      "metadata": {
        "id": "dg2cEj5egn0l",
        "colab_type": "code",
        "colab": {}
      },
      "source": [
        "training_images = np.expand_dims(training_images,3)\n",
        "testing_images = np.expand_dims(testing_images,3)"
      ],
      "execution_count": 13,
      "outputs": []
    },
    {
      "cell_type": "code",
      "metadata": {
        "id": "gr3AZUN5grai",
        "colab_type": "code",
        "colab": {}
      },
      "source": [
        "train_datagen = ImageDataGenerator(rescale=1/255,width_shift_range=0.2,height_shift_range=0.2, #Data augmentaion\n",
        "                                   rotation_range = 40,zoom_range = 0.2)\n",
        "\n",
        "validation_datagen = ImageDataGenerator(rescale=1/255,zoom_range = 0.2)"
      ],
      "execution_count": 14,
      "outputs": []
    },
    {
      "cell_type": "code",
      "metadata": {
        "id": "owdlrA5GgrUE",
        "colab_type": "code",
        "colab": {}
      },
      "source": [
        "model = tf.keras.models.Sequential([\n",
        "    tf.keras.layers.Conv2D(64, (3, 3), activation='relu', input_shape=(28, 28, 1)),\n",
        "    tf.keras.layers.MaxPooling2D(2, 2),\n",
        "    tf.keras.layers.Conv2D(64, (3, 3), activation='relu'),\n",
        "    tf.keras.layers.MaxPooling2D(2, 2),\n",
        "    tf.keras.layers.Flatten(),\n",
        "    tf.keras.layers.Dense(128, activation=tf.nn.relu),\n",
        "    tf.keras.layers.Dense(26, activation=tf.nn.softmax)]\n",
        "    )\n"
      ],
      "execution_count": 15,
      "outputs": []
    },
    {
      "cell_type": "code",
      "metadata": {
        "id": "Vf5w3TUhg27R",
        "colab_type": "code",
        "colab": {
          "base_uri": "https://localhost:8080/",
          "height": 391
        },
        "outputId": "544616dd-426b-4bb9-9dcb-961df3f69ce9"
      },
      "source": [
        "model.compile(loss = tf.losses.sparse_categorical_crossentropy, optimizer='rmsprop', metrics=['accuracy'])\n",
        "\n",
        "model.summary()"
      ],
      "execution_count": 16,
      "outputs": [
        {
          "output_type": "stream",
          "text": [
            "Model: \"sequential\"\n",
            "_________________________________________________________________\n",
            "Layer (type)                 Output Shape              Param #   \n",
            "=================================================================\n",
            "conv2d (Conv2D)              (None, 26, 26, 64)        640       \n",
            "_________________________________________________________________\n",
            "max_pooling2d (MaxPooling2D) (None, 13, 13, 64)        0         \n",
            "_________________________________________________________________\n",
            "conv2d_1 (Conv2D)            (None, 11, 11, 64)        36928     \n",
            "_________________________________________________________________\n",
            "max_pooling2d_1 (MaxPooling2 (None, 5, 5, 64)          0         \n",
            "_________________________________________________________________\n",
            "flatten (Flatten)            (None, 1600)              0         \n",
            "_________________________________________________________________\n",
            "dense (Dense)                (None, 128)               204928    \n",
            "_________________________________________________________________\n",
            "dense_1 (Dense)              (None, 26)                3354      \n",
            "=================================================================\n",
            "Total params: 245,850\n",
            "Trainable params: 245,850\n",
            "Non-trainable params: 0\n",
            "_________________________________________________________________\n"
          ],
          "name": "stdout"
        }
      ]
    },
    {
      "cell_type": "code",
      "metadata": {
        "id": "M_sXOtkgg21l",
        "colab_type": "code",
        "colab": {
          "base_uri": "https://localhost:8080/",
          "height": 408
        },
        "outputId": "8890c5ef-403a-45df-9c41-64a236a6d91f"
      },
      "source": [
        "history = model.fit_generator(train_datagen.flow(training_images, training_labels, batch_size=32,),\n",
        "                              steps_per_epoch=len(training_images) / 32,\n",
        "                              epochs=10,\n",
        "                              validation_data=validation_datagen.flow(testing_images, testing_labels, batch_size=32),\n",
        "                              validation_steps=len(testing_images) / 32)"
      ],
      "execution_count": 17,
      "outputs": [
        {
          "output_type": "stream",
          "text": [
            "WARNING:tensorflow:From <ipython-input-17-c142c197da4d>:5: Model.fit_generator (from tensorflow.python.keras.engine.training) is deprecated and will be removed in a future version.\n",
            "Instructions for updating:\n",
            "Please use Model.fit, which supports generators.\n",
            "Epoch 1/10\n",
            "858/857 [==============================] - 10s 12ms/step - loss: 2.6691 - accuracy: 0.1959 - val_loss: 1.5656 - val_accuracy: 0.4951\n",
            "Epoch 2/10\n",
            "858/857 [==============================] - 10s 12ms/step - loss: 1.8145 - accuracy: 0.4328 - val_loss: 0.9968 - val_accuracy: 0.6649\n",
            "Epoch 3/10\n",
            "858/857 [==============================] - 10s 12ms/step - loss: 1.3285 - accuracy: 0.5699 - val_loss: 0.7390 - val_accuracy: 0.7440\n",
            "Epoch 4/10\n",
            "858/857 [==============================] - 10s 12ms/step - loss: 1.0317 - accuracy: 0.6633 - val_loss: 0.5667 - val_accuracy: 0.7934\n",
            "Epoch 5/10\n",
            "858/857 [==============================] - 10s 12ms/step - loss: 0.8534 - accuracy: 0.7177 - val_loss: 0.5149 - val_accuracy: 0.8019\n",
            "Epoch 6/10\n",
            "858/857 [==============================] - 10s 12ms/step - loss: 0.7223 - accuracy: 0.7600 - val_loss: 0.3660 - val_accuracy: 0.8710\n",
            "Epoch 7/10\n",
            "858/857 [==============================] - 10s 12ms/step - loss: 0.6299 - accuracy: 0.7897 - val_loss: 0.3590 - val_accuracy: 0.8694\n",
            "Epoch 8/10\n",
            "858/857 [==============================] - 10s 12ms/step - loss: 0.5694 - accuracy: 0.8093 - val_loss: 0.4146 - val_accuracy: 0.8458\n",
            "Epoch 9/10\n",
            "858/857 [==============================] - 10s 12ms/step - loss: 0.5113 - accuracy: 0.8299 - val_loss: 0.2225 - val_accuracy: 0.9267\n",
            "Epoch 10/10\n",
            "858/857 [==============================] - 10s 12ms/step - loss: 0.4675 - accuracy: 0.8463 - val_loss: 0.2705 - val_accuracy: 0.9062\n"
          ],
          "name": "stdout"
        }
      ]
    },
    {
      "cell_type": "code",
      "metadata": {
        "id": "z2wfFcoZg2y7",
        "colab_type": "code",
        "colab": {
          "base_uri": "https://localhost:8080/",
          "height": 51
        },
        "outputId": "be193284-5ef8-4ada-d902-4ee00e471b1f"
      },
      "source": [
        "model.evaluate(testing_images, testing_labels)"
      ],
      "execution_count": 18,
      "outputs": [
        {
          "output_type": "stream",
          "text": [
            "225/225 [==============================] - 1s 2ms/step - loss: 168.3651 - accuracy: 0.6962\n"
          ],
          "name": "stdout"
        },
        {
          "output_type": "execute_result",
          "data": {
            "text/plain": [
              "[168.3650665283203, 0.6961795687675476]"
            ]
          },
          "metadata": {
            "tags": []
          },
          "execution_count": 18
        }
      ]
    },
    {
      "cell_type": "code",
      "metadata": {
        "id": "UNlGQNoLhBLu",
        "colab_type": "code",
        "colab": {
          "base_uri": "https://localhost:8080/",
          "height": 545
        },
        "outputId": "602adbec-3cb5-44c0-e350-86c34f78afcb"
      },
      "source": [
        "import matplotlib.pyplot as plt\n",
        "acc = history.history[\"accuracy\"]\n",
        "val_acc = history.history[\"val_accuracy\"]\n",
        "loss = history.history[\"loss\"]\n",
        "val_loss = history.history[\"val_loss\"]\n",
        "\n",
        "epochs = range(len(acc))\n",
        "\n",
        "plt.plot(epochs, acc, 'r', label='Training accuracy')\n",
        "plt.plot(epochs, val_acc, 'b', label='Validation accuracy')\n",
        "plt.title('Training and validation accuracy')\n",
        "plt.legend()\n",
        "plt.figure()\n",
        "\n",
        "plt.plot(epochs, loss, 'r', label='Training Loss')\n",
        "plt.plot(epochs, val_loss, 'b', label='Validation Loss')\n",
        "plt.title('Training and validation loss')\n",
        "plt.legend()\n",
        "\n",
        "plt.show()"
      ],
      "execution_count": 20,
      "outputs": [
        {
          "output_type": "display_data",
          "data": {
            "image/png": "[encoded data removed]",
            "text/plain": [
              "<Figure size 432x288 with 1 Axes>"
            ]
          },
          "metadata": {
            "tags": [],
            "needs_background": "light"
          }
        },
        {
          "output_type": "display_data",
          "data": {
            "image/png": "[encoded data removed]",
            "text/plain": [
              "<Figure size 432x288 with 1 Axes>"
            ]
          },
          "metadata": {
            "tags": [],
            "needs_background": "light"
          }
        }
      ]
    },
    {
      "cell_type": "code",
      "metadata": {
        "id": "QFqNdsAOxRwa",
        "colab_type": "code",
        "colab": {}
      },
      "source": [
        ""
      ],
      "execution_count": 19,
      "outputs": []
    }
  ]
}